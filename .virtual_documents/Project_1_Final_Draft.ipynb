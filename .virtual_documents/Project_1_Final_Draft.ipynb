import requests
import json
from Resources.API_Key import api_key
import pandas as pd
import matplotlib.pyplot as plt
import numpy as np


# Using the API key to access BLS data   
url = "https://api.bls.gov/publicAPI/v2/timeseries/data/"

series_id_lp = "PRS85006092"

payload = {
    "seriesid": [series_id_lp],
    "startyear": "2018",
    "endyear": "2024",
    "registrationkey": api_key
}

response = requests.post(url, json=payload)

if response.status_code == 200:
    data = response.json()
    print(json.dumps(data, indent=4))
else:
    print(f"Error {response.status_code}")
    


# Converting the data into a dataframe
series_data = data['Results']['series'][0]['data']
labor_productivity_df = pd.DataFrame(series_data)

# Formatting the data
quarter_mapping = {
    "Q01": "Q1: Jan 1 - Mar 31",
    "Q02": "Q2: Apr 1 - Jun 30",
    "Q03": "Q3: Jul 1 - Sep 30",
    "Q04": "Q4: Oct 1 - Dec 31"
}

# Extra formatting for the data that came from the API request
labor_productivity_df['quarter'] = labor_productivity_df['period'].map(quarter_mapping)
labor_productivity_df['year'] = pd.to_numeric(labor_productivity_df['year'])
labor_productivity_df['percent_change'] = pd.to_numeric(labor_productivity_df['value'])
labor_productivity_df = labor_productivity_df[['year', 'quarter', 'percent_change']]
labor_productivity_df = labor_productivity_df.sort_values(by=['year', 'quarter']).reset_index(drop=True)


# Reading in the Excel file that was used for this data frame
file_path = "Resources/unit_labor_costs.xlsx"
sheet_name = "BLS Data Series"
unit_labor_costs_df = pd.read_excel(file_path)
unit_labor_costs_df = unit_labor_costs_df.melt(id_vars =["Year"],
                                               var_name="quarter",
                                               value_name="percent_change")

#Formatting the data so that it matches the previous data frame
quarter_mapping2 = {
    "Qtr1": "Q1: Jan 1 - Mar 31",
    "Qtr2": "Q2: Apr 1 - Jun 30",
    "Qtr3": "Q3: Jul 1 - Sep 30",
    "Qtr4": "Q4: Oct 1 - Dec 31"
}
unit_labor_costs_df["quarter"] = unit_labor_costs_df["quarter"].map(quarter_mapping2)
unit_labor_costs_df = unit_labor_costs_df.sort_values(by=["Year", "quarter"]).reset_index(drop=True)
unit_labor_costs_df = unit_labor_costs_df.dropna(subset=["percent_change"])


# Rinse and repeat for the next excel sheet
file_path2 = "Resources/real_hourly_compensation.xlsx"
sheet_name2 = sheet_name
real_hourly_compensation_df = pd.read_excel(file_path2)
real_hourly_compensation_df = real_hourly_compensation_df.melt(id_vars = ["Year"],
                                                               var_name="quarter",
                                                               value_name="percent_change")

real_hourly_compensation_df["quarter"] = real_hourly_compensation_df["quarter"].map(quarter_mapping2)
real_hourly_compensation_df = real_hourly_compensation_df.sort_values(by=["Year", "quarter"]).reset_index(drop=True)
real_hourly_compensation_df = real_hourly_compensation_df.dropna(subset=["percent_change"])


file_path3 = "Resources/total_factor_productivity.xlsx"
sheet_name3 = sheet_name
total_factor_productivity_df = pd.read_excel(file_path3)


file_path3 = "Resources/labor-productivity-detailed-industries.xlsx"
sheet_name3 = "MachineReadable"
industry_data_df = pd.read_excel(file_path3, sheet_name3)
industry_data_df = industry_data_df[industry_data_df["Year"] >= 2018]
industry_data_df = industry_data_df[industry_data_df["Units"] == "Index (2017=100)"]
selected_columns = ["Sector", "Industry", "Measure", "Units", "Year", "Value"]
industry_data_df = industry_data_df[selected_columns]
industry_data_df.reset_index()
industry_data_df.head()


# Labor Productivity DataFrame
labor_productivity_df


industry_data_filtered2 = industry_data_df[industry_data_df["Measure"] == "Labor productivity"]
sector_labor_productivity_df = industry_data_filtered2.groupby(["Sector", "Year"])["Value"].mean().reset_index()
sector_labor_productivity_df = sector_labor_productivity_df.rename(columns={"Value": "Labor Productivity"})
sector_labor_productivity_df.head(10)


year_over_year_labor_prod = sector_labor_productivity_df.groupby("Year")["Labor Productivity"].mean().reset_index()
plt.plot(year_over_year_labor_prod["Year"], year_over_year_labor_prod["Labor Productivity"], marker="o")
plt.title("Average Labor Productivity by Year", fontsize=16)
plt.xlabel("Year", fontsize=12)
plt.ylabel("Average Unit Labor Costs", fontsize=12)


first_yr2 = sector_labor_productivity_df[sector_labor_productivity_df["Year"] == 2018]
last_yr2 = sector_labor_productivity_df[sector_labor_productivity_df["Year"] == 2023]

merged_df2 = pd.merge(first_yr2, last_yr2, on="Sector", suffixes=("_2018", "_2023"))
merged_df2["Labor Productivity % Change"] = ((merged_df2["Labor Productivity_2023"] - merged_df2["Labor Productivity_2018"]) / merged_df2["Labor Productivity_2018"]) * 100
sector_labor_productivity_percent_change = merged_df2[["Sector", "Labor Productivity_2018", "Labor Productivity_2023", "Labor Productivity % Change"]]
sector_labor_productivity_percent_change


sector_labor_product_df = sector_labor_productivity_percent_change[["Sector", "Labor Productivity_2018", "Labor Productivity_2023"]]
sector_labor_product_df.loc[1, "Sector"] = "Admin, Support, Wste. Mgmt, & Remed. Srvc."
sector_labor_product_df.loc[0, "Sector"] = "Accm. & Food Services"
sector_labor_plot = sector_labor_product_df.plot(kind="bar", figsize=(10, 6), width=0.8)
plt.title("Labor Productivity by Sector (2018 vs 2023)")
plt.ylabel("Labor Productivity (Units)", fontsize=14)
plt.xlabel("Sector")
plt.xticks(ticks=range(len(sector_labor_product_df["Sector"])),labels = sector_labor_product_df["Sector"])
plt.xticks(rotation=60, ha="right")
plt.legend(["2018", "2023"])
plt.tight_layout()
sector_labor_plot.yaxis.grid(True)


industry_data_filtered = industry_data_df[industry_data_df["Measure"] == "Unit labor costs"]
sector_unit_labor_costs_df = industry_data_filtered.groupby(["Sector", "Year"])["Value"].mean().reset_index()
sector_unit_labor_costs_df = sector_unit_labor_costs_df.rename(columns={"Value": "Unit Labor Costs"})
sector_unit_labor_costs_df.head(10)
year_over_year_unit_labor = sector_unit_labor_costs_df.groupby("Year")["Unit Labor Costs"].mean().reset_index()
plt.plot(year_over_year_unit_labor["Year"], year_over_year_unit_labor["Unit Labor Costs"], marker="o")
plt.title("Average Unit Labor Costs by Year", fontsize=16)
plt.xlabel("Year", fontsize=12)
plt.ylabel("Average Unit Labor Costs", fontsize=12)


first_yr1 = sector_unit_labor_costs_df[sector_unit_labor_costs_df["Year"] == 2018]
last_yr1 = sector_unit_labor_costs_df[sector_unit_labor_costs_df["Year"] == 2023]

merged_df1 = pd.merge(first_yr1, last_yr1, on="Sector", suffixes=("_2018", "_2023"))
merged_df1["Unit Labor Costs % Change"] = ((merged_df1["Unit Labor Costs_2023"] - merged_df1["Unit Labor Costs_2018"]) / merged_df1["Unit Labor Costs_2018"]) * 100
sector_unit_labor_costs_percent_change = merged_df1[["Sector", "Unit Labor Costs_2018", "Unit Labor Costs_2023", "Unit Labor Costs % Change"]]
sector_unit_labor_costs_percent_change


sector_unit_costs_df = sector_unit_labor_costs_percent_change[["Sector", "Unit Labor Costs_2018", "Unit Labor Costs_2023"]]
sector_unit_costs_df.loc[1, "Sector"] = "Admin, Support, Wste. Mgmt, & Remed. Srvc."
sector_unit_costs_df.loc[0, "Sector"] = "Accm. & Food Services"
sector_unit_costs_plot = sector_unit_costs_df.plot(kind="bar", figsize=(10, 6), width=0.8)
plt.title("Unit Labor Costs by Sector (2018 vs 2023)")
plt.ylabel("Unit Labor Costs (Units)", fontsize=14)
plt.xlabel("Sector")
plt.xticks(ticks=range(len(sector_unit_costs_df["Sector"])),labels = sector_unit_costs_df["Sector"])
plt.xticks(rotation=60, ha="right")
plt.legend(["2018", "2023"])
plt.tight_layout()
sector_unit_costs_plot.yaxis.grid(True)


# Unit Labor Costs DataFrame
unit_labor_costs_df


unit_labor_costs_plot = unit_labor_costs_df.sort_values(by=["Year","quarter"])

#create scatter plot
plt.figure(figsize=(10,6))
plt.scatter(unit_labor_costs_df["Year"], unit_labor_costs_df["percent_change"], marker ="o", color = "c")

#labels
plt.xlabel("Year")
plt.ylabel("Percent Change")
plt.title("Yearly Unit Labor Costs Percent Change Per Quarter")

#chart layout and design
plt.grid(True)
plt.tight_layout()
plt.show


plt.figure(figsize=(10, 6))
unit_labor_costs_df.boxplot(column="percent_change", by="Year", grid=False)
plt.title("Box-and-Whisker Plot of Quarterly Percent Change in Unit Labor Costs by Year")
plt.suptitle("") # Removes the default title
plt.xlabel("Year")
plt.ylabel("Percent Change")
plt.xticks(rotation=45)
plt.tight_layout()
plt.show()


first_yr1 = sector_unit_labor_costs_df[sector_unit_labor_costs_df["Year"] == 2018]
last_yr1 = sector_unit_labor_costs_df[sector_unit_labor_costs_df["Year"] == 2023]

merged_df1 = pd.merge(first_yr1, last_yr1, on="Sector", suffixes=("_2018", "_2023"))
merged_df1["Unit Labor Costs % Change"] = ((merged_df1["Unit Labor Costs_2023"] - merged_df1["Unit Labor Costs_2018"]) / merged_df1["Unit Labor Costs_2018"]) * 100
sector_unit_labor_costs_percent_change = merged_df1[["Sector", "Unit Labor Costs_2018", "Unit Labor Costs_2023", "Unit Labor Costs % Change"]]
sector_unit_labor_costs_percent_change.head()


sector_unit_costs_df = sector_unit_labor_costs_percent_change[["Sector", "Unit Labor Costs_2018", "Unit Labor Costs_2023"]]
sector_unit_costs_df.loc[1, "Sector"] = "Admin, Support, Wste. Mgmt, & Remed. Srvc."
sector_unit_costs_df.loc[0, "Sector"] = "Accm. & Food Services"
sector_unit_costs_plot = sector_unit_costs_df.plot(kind="bar", figsize=(10, 6), width=0.8)
plt.title("Unit Labor Costs by Sector (2018 vs 2023)")
plt.ylabel("Unit Labor Costs (Units)", fontsize=14)
plt.xlabel("Sector")
plt.xticks(ticks=range(len(sector_unit_costs_df["Sector"])),labels = sector_unit_costs_df["Sector"])
plt.xticks(rotation=60, ha="right")
plt.legend(["2018", "2023"])
plt.tight_layout()
sector_unit_costs_plot.yaxis.grid(True)


# Real Hourly Compensation Data Frame
real_hourly_compensation_df


real_hourly_compensation_plot = real_hourly_compensation_df.pivot(index="quarter", columns="Year", values="percent_change")

plt.figure(figsize=(10, 6))
real_hourly_compensation_plot.plot(marker="o")

plt.xlabel("Quarter")
plt.ylabel("Percent Change")
plt.title("Real Hourly Compensation % Change from Previous Quarter by Year")


x_values = real_hourly_compensation_df['Year']
y_values = real_hourly_compensation_df['percent_change']
plt.scatter(x_values, y_values) 

# Add labels and title
plt.xlabel('Years')
plt.ylabel('Percent Change')
plt.title("Years vs. Percent Change")

# Show plot
plt.grid(True)
plt.show()


# Total Factor Productivity Data Frame
total_factor_productivity_df


# Assign categories
category_column = 'Year'  
value_column = 'Annual'        


# Plotting the pie chart
plt.figure(figsize=(8, 8))
plt.pie(
    total_factor_productivity_df[value_column], 
    labels=total_factor_productivity_df[category_column],
    autopct='%1.1f%%',
    startangle=140
)
plt.title("Total Factor Productivity Distribution")
plt.show()


percent_change_sector_comparison_df = pd.merge(sector_labor_productivity_percent_change, sector_unit_labor_costs_percent_change, on="Sector")
percent_change_sector_comparison_df = percent_change_sector_comparison_df[["Sector", "Labor Productivity % Change", "Unit Labor Costs % Change"]]
percent_change_sector_comparison_df.loc[1, "Sector"] = "Admin, Support, Wste. Mgmt, & Remed. Srvc."
percent_change_sector_comparison_df.loc[0, "Sector"] = "Accm. & Food Services"
percent_change_sector_comparison_df


percent_change_plot = percent_change_sector_comparison_df.plot(kind="bar", figsize=(10, 6), width=0.8)
plt.title("Labor Productivity vs Labor Costs (2018 to 2023)")
plt.ylabel("Percentage Change", fontsize=14)
plt.xlabel("Sector")
plt.xticks(ticks=range(len(percent_change_sector_comparison_df["Sector"])),labels = percent_change_sector_comparison_df["Sector"])
plt.xticks(rotation=60, ha="right")
plt.legend(["Labor Productivity", "Unit Labor Costs"])
plt.tight_layout()
percent_change_plot.yaxis.grid(True)
