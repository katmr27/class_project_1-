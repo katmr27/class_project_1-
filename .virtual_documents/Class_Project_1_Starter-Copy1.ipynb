import requests
import json
from Resources.API_Key import api_key
import pandas as pd
import matplotlib.pyplot as plt


# Using the API key to access BLS data   
url = "https://api.bls.gov/publicAPI/v2/timeseries/data/"

series_id_lp = "PRS85006092"

payload = {
    "seriesid": [series_id_lp],
    "startyear": "2018",
    "endyear": "2024",
    "registrationkey": api_key
}

response = requests.post(url, json=payload)

if response.status_code == 200:
    data = response.json()
    print(json.dumps(data, indent=4))
else:
    print(f"Error {response.status_code}")
    


# Converting the data into a dataframe
series_data = data['Results']['series'][0]['data']
labor_productivity_df = pd.DataFrame(series_data)

# Formatting the data
quarter_mapping = {
    "Q01": "Q1: Jan 1 - Mar 31",
    "Q02": "Q2: Apr 1 - Jun 30",
    "Q03": "Q3: Jul 1 - Sep 30",
    "Q04": "Q4: Oct 1 - Dec 31"
}

# Extra formatting for the data that came from the API request
labor_productivity_df['quarter'] = labor_productivity_df['period'].map(quarter_mapping)
labor_productivity_df['year'] = pd.to_numeric(labor_productivity_df['year'])
labor_productivity_df['percent_change'] = pd.to_numeric(labor_productivity_df['value'])
labor_productivity_df = labor_productivity_df[['year', 'quarter', 'percent_change']]
labor_productivity_df = labor_productivity_df.sort_values(by=['year', 'quarter']).reset_index(drop=True)


# Reading in the Excel file that was used for this data frame
file_path = "Resources/unit_labor_costs.xlsx"
sheet_name = "BLS Data Series"
unit_labor_costs_df = pd.read_excel(file_path)
unit_labor_costs_df = unit_labor_costs_df.melt(id_vars =["Year"],
                                               var_name="quarter",
                                               value_name="percent_change")

#Formatting the data so that it matches the previous data frame
quarter_mapping2 = {
    "Qtr1": "Q1: Jan 1 - Mar 31",
    "Qtr2": "Q2: Apr 1 - Jun 30",
    "Qtr3": "Q3: Jul 1 - Sep 30",
    "Qtr4": "Q4: Oct 1 - Dec 31"
}
unit_labor_costs_df["quarter"] = unit_labor_costs_df["quarter"].map(quarter_mapping2)
unit_labor_costs_df = unit_labor_costs_df.sort_values(by=["Year", "quarter"]).reset_index(drop=True)
unit_labor_costs_df = unit_labor_costs_df.dropna(subset=["percent_change"])


# Rinse and repeat for the next excel sheet
file_path2 = "Resources/real_hourly_compensation.xlsx"
sheet_name2 = sheet_name
real_hourly_compensation_df = pd.read_excel(file_path2)
real_hourly_compensation_df = real_hourly_compensation_df.melt(id_vars = ["Year"],
                                                               var_name="quarter",
                                                               value_name="percent_change")

real_hourly_compensation_df["quarter"] = real_hourly_compensation_df["quarter"].map(quarter_mapping2)
real_hourly_compensation_df = real_hourly_compensation_df.sort_values(by=["Year", "quarter"]).reset_index(drop=True)
real_hourly_compensation_df = real_hourly_compensation_df.dropna(subset=["percent_change"])


file_path3 = "Resources/total_factor_productivity.xlsx"
sheet_name3 = sheet_name
total_factor_productivity_df = pd.read_excel(file_path3)


# Labor Productivity DataFrame
labor_productivity_df


# Unit Labor Costs DataFrame
unit_labor_costs_df


# Real Hourly Compensation Data Frame
real_hourly_compensation_df


# Total Factor Productivity Data Frame
total_factor_productivity_df


file_path3 = "Resources/labor-productivity-detailed-industries.xlsx"
sheet_name3 = "MachineReadable"
industry_data_df = pd.read_excel(file_path3, sheet_name3)
industry_data_df = industry_data_df[industry_data_df["Year"] >= 2018]
selected_columns = ["Sector", "Industry", "Measure", "Units", "Year", "Value"]
industry_data_df = industry_data_df[selected_columns]
industry_data_df.head(10)


industry_data_filtered = industry_data_df[industry_data_df["Measure"] == "Unit labor costs"]
average_percent_change_df = industry_data_filtered.groupby(["Sector", "Year"])["Value"].mean().reset_index()
average_percent_change_df.head(10)


industry_data_filtered = industry_data_df[industry_data_df["Measure"] == "Unit labor costs"]
average_percent_change_df = industry_data_filtered.groupby(["Sector", "Year"])["Value"].mean().reset_index()
average_percent_change_df.head(10)


latest_year = average_percent_change_df["Year"].max()
df_2018 = average_percent_change_df[average_percent_change_df["Year"] == 2018]
df_latest = average_percent_change_df[average_percent_change_df["Year"] == latest_year]
merged_df = pd.merge(df_2018[["Sector", "Value"]], df_latest[["Sector", "Value"]], on="Sector", suffixes=("_2018", f"_{latest_year}"))
merged_df = merged_df.rename(columns={
    "Value_2018": "Unit Labor Cost 2018",
    f"Value_{latest_year}": f"Unit Labor Cost {latest_year}",
    "Percent Change": "Unit Labor Cost Percent Change"
})

merged_df["Unit Labor Cost Percent Change"] = ((merged_df[f"Unit Labor Cost {latest_year}"] - merged_df["Unit Labor Cost 2018"]) / merged_df["Unit Labor Cost 2018"]) * 100
unit_labor_percent_change = merged_df.sort_values(by="Unit Labor Cost Percent Change", ascending=False)
unit_labor_percent_change


industry_data_filtered2 = industry_data_df[industry_data_df["Measure"] == "Labor productivity"]
productivity_average_change_df = industry_data_filtered2.groupby(["Sector", "Year"])["Value"].mean().reset_index()
productivity_average_change_df.head(10)


latest_year2 = productivity_average_change_df["Year"].max()
df2_2018 = productivity_average_change_df[productivity_average_change_df["Year"] == 2018]
df2_latest = productivity_average_change_df[productivity_average_change_df["Year"] == latest_year2]
merged_df2 = pd.merge(df_2018[["Sector", "Value"]], df2_latest[["Sector", "Value"]], on="Sector", suffixes=("_2018", f"_{latest_year2}"))
merged_df2["Percent Change"] = ((merged_df2[f"Value_{latest_year2}"] - merged_df2["Value_2018"]) / merged_df2["Value_2018"]) * 100
merged_df2 = merged_df2.rename(columns={
    "Value_2018": "Labor Productivity 2018",
    f"Value_{latest_year2}": f"Labor Productivity {latest_year2}",
    "Percent Change": "Labor Productivity Percent Change"
})
productivity_average_change_df = merged_df2.sort_values(by="Labor Productivity Percent Change", ascending=False)
productivity_average_change_df


labor_vs_prod_df = pd.merge(
    unit_labor_percent_change,
    productivity_average_change_df,
    on="Sector",
    how="inner"
)
labor_vs_prod_df


real_hourly_compensation_plot = real_hourly_compensation_df.pivot(index="quarter", columns="Year", values="percent_change")

plt.figure(figsize=(10, 6))
real_hourly_compensation_plot.plot(marker="o")

plt.xlabel("Quarter")
plt.ylabel("Percent Change")
plt.title("Hourly Compensation % Change from Previous Quarter by Year")



