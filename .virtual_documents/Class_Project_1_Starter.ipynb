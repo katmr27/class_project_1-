import requests
import json
from Resources.API_Key import api_key
import pandas as pd
import matplotlib as plt


# Using the API key to access BLS data   
url = "https://api.bls.gov/publicAPI/v2/timeseries/data/"

series_id_lp = "PRS85006092"

payload = {
    "seriesid": [series_id_lp],
    "startyear": "2018",
    "endyear": "2024",
    "registrationkey": api_key
}

response = requests.post(url, json=payload)

if response.status_code == 200:
    data = response.json()
    print(json.dumps(data, indent=4))
else:
    print(f"Error {response.status_code}")
    


# Converting the data into a dataframe
series_data = data['Results']['series'][0]['data']
labor_productivity_df = pd.DataFrame(series_data)

# Formatting the data
quarter_mapping = {
    "Q01": "Q1: Jan 1 - Mar 31",
    "Q02": "Q2: Apr 1 - Jun 30",
    "Q03": "Q3: Jul 1 - Sep 30",
    "Q04": "Q4: Oct 1 - Dec 31"
}

# Extra formatting for the data that came from the API request
labor_productivity_df['quarter'] = labor_productivity_df['period'].map(quarter_mapping)
labor_productivity_df['year'] = pd.to_numeric(labor_productivity_df['year'])
labor_productivity_df['percent_change'] = pd.to_numeric(labor_productivity_df['value'])
labor_productivity_df = labor_productivity_df[['year', 'quarter', 'percent_change']]
labor_productivity_df = labor_productivity_df.sort_values(by=['year', 'quarter']).reset_index(drop=True)


# Reading in the Excel file that was used for this data frame
file_path = "Resources/unit_labor_costs.xlsx"
sheet_name = "BLS Data Series"
unit_labor_costs_df = pd.read_excel(file_path)
unit_labor_costs_df = unit_labor_costs_df.melt(id_vars =["Year"],
                                               var_name="quarter",
                                               value_name="percent_change")

#Formatting the data so that it matches the previous data frame
quarter_mapping2 = {
    "Qtr1": "Q1: Jan 1 - Mar 31",
    "Qtr2": "Q2: Apr 1 - Jun 30",
    "Qtr3": "Q3: Jul 1 - Sep 30",
    "Qtr4": "Q4: Oct 1 - Dec 31"
}
unit_labor_costs_df["quarter"] = unit_labor_costs_df["quarter"].map(quarter_mapping2)
unit_labor_costs_df = unit_labor_costs_df.sort_values(by=["Year", "quarter"]).reset_index(drop=True)
unit_labor_costs_df = unit_labor_costs_df.dropna(subset=["percent_change"])


# Rinse and repeat for the next excel sheet
file_path2 = "Resources/real_hourly_compensation.xlsx"
sheet_name2 = sheet_name
real_hourly_compensation_df = pd.read_excel(file_path2)
real_hourly_compensation_df = real_hourly_compensation_df.melt(id_vars = ["Year"],
                                                               var_name="quarter",
                                                               value_name="percent_change")

real_hourly_compensation_df["quarter"] = real_hourly_compensation_df["quarter"].map(quarter_mapping2)
real_hourly_compensation_df = real_hourly_compensation_df.sort_values(by=["Year", "quarter"]).reset_index(drop=True)
real_hourly_compensation_df = real_hourly_compensation_df.dropna(subset=["percent_change"])


file_path3 = "Resources/total_factor_productivity.xlsx"
sheet_name3 = sheet_name
total_factor_productivity_df = pd.read_excel(file_path3)


# Labor Productivity DataFrame
labor_productivity_df


# Unit Labor Costs DataFrame
unit_labor_costs_df


# Real Hourly Compensation Data Frame
real_hourly_compensation_df


# Total Factor Productivity Data Frame
total_factor_productivity_df


file_path3 = "Resources/labor-productivity-detailed-industries.xlsx"
sheet_name3 = "MachineReadable"
industry_data_df = pd.read_excel(file_path3, sheet_name3)
industry_data_df = industry_data_df[industry_data_df["Year"] >= 2018]
selected_columns = ["Sector", "Industry", "Measure", "Units", "Year", "Value"]
industry_data_df = industry_data_df[selected_columns]
industry_data_df.head(10)


industry_data_filtered = industry_data_df[industry_data_df["Measure"] == "Unit labor costs"]
sector_unit_labor_costs_df = industry_data_filtered.groupby(["Sector", "Year"])["Value"].mean().reset_index()
sector_unit_labor_costs_df = sector_unit_labor_costs_df.rename(columns={"Value": "Unit Labor Costs"})
sector_unit_labor_costs_df.head(10)


first_yr1 = sector_unit_labor_costs_df[sector_unit_labor_costs_df["Year"] == 2018]
last_yr1 = sector_unit_labor_costs_df[sector_unit_labor_costs_df["Year"] == 2023]

merged_df1 = pd.merge(first_yr1, last_yr1, on="Sector", suffixes=("_2018", "_2023"))
merged_df1["Unit Labor Costs % Change"] = ((merged_df1["Unit Labor Costs_2023"] - merged_df1["Unit Labor Costs_2018"]) / merged_df1["Unit Labor Costs_2018"]) * 100
sector_unit_labor_costs_percent_change = merged_df1[["Sector", "Unit Labor Costs_2018", "Unit Labor Costs_2023", "Unit Labor Costs % Change"]]
sector_unit_labor_costs_percent_change


industry_data_filtered2 = industry_data_df[industry_data_df["Measure"] == "Labor productivity"]
sector_labor_productivity_df = industry_data_filtered2.groupby(["Sector", "Year"])["Value"].mean().reset_index()
sector_labor_productivity_df = sector_labor_productivity_df.rename(columns={"Value": "Labor Productivity"})
sector_labor_productivity_df.head(10)


first_yr2 = sector_labor_productivity_df[sector_labor_productivity_df["Year"] == 2018]
last_yr2 = sector_labor_productivity_df[sector_labor_productivity_df["Year"] == 2023]

merged_df2 = pd.merge(first_yr2, last_yr2, on="Sector", suffixes=("_2018", "_2023"))
merged_df2["Labor Productivity % Change"] = ((merged_df2["Labor Productivity_2023"] - merged_df2["Labor Productivity_2018"]) / merged_df2["Labor Productivity_2018"]) * 100
sector_labor_productivity_percent_change = merged_df2[["Sector", "Labor Productivity_2018", "Labor Productivity_2023", "Labor Productivity % Change"]]
sector_labor_productivity_percent_change


percent_change_sector_comparison_df = pd.merge(sector_labor_productivity_percent_change, sector_unit_labor_costs_percent_change, on="Sector")
percent_change_sector_comparison_df = percent_change_sector_comparison_df[["Sector", "Labor Productivity % Change", "Unit Labor Costs % Change"]]
percent_change_sector_comparison_df


ax = percent_change_sector_comparison_df.plot(kind="bar", figsize=(10, 6), width=0.8)
plt.ylabel("Percentage Change")



