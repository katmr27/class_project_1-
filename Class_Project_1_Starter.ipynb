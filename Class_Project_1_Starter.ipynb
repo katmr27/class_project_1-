{
 "cells": [
  {
   "cell_type": "code",
   "execution_count": 2,
   "id": "67dbc975-1a05-4b07-9a6b-544629656615",
   "metadata": {},
   "outputs": [],
   "source": [
    "import requests\n",
    "import json\n",
    "from Resources.API_Key import api_key\n",
    "import pandas as pd"
   ]
  },
  {
   "cell_type": "code",
   "execution_count": null,
   "id": "fe16c245-e529-479c-96b5-f91008b6885b",
   "metadata": {},
   "outputs": [],
   "source": [
    "# Using the API key to access BLS data   \n",
    "url = \"https://api.bls.gov/publicAPI/v2/timeseries/data/\"\n",
    "\n",
    "series_id_lp = \"PRS85006092\"\n",
    "\n",
    "payload = {\n",
    "    \"seriesid\": [series_id_lp],\n",
    "    \"startyear\": \"2018\",\n",
    "    \"endyear\": \"2024\",\n",
    "    \"registrationkey\": api_key\n",
    "}\n",
    "\n",
    "response = requests.post(url, json=payload)\n",
    "\n",
    "if response.status_code == 200:\n",
    "    data = response.json()\n",
    "    print(json.dumps(data, indent=4))\n",
    "else:\n",
    "    print(f\"Error {response.status_code}\")\n",
    "    "
   ]
  },
  {
   "cell_type": "code",
   "execution_count": null,
   "id": "10b30f02-1b56-4139-8cc8-87cc644ea263",
   "metadata": {},
   "outputs": [],
   "source": [
    "# Converting the data into a dataframe\n",
    "series_data = data['Results']['series'][0]['data']\n",
    "labor_productivity_df = pd.DataFrame(series_data)\n",
    "\n",
    "# Formatting the data\n",
    "quarter_mapping = {\n",
    "    \"Q01\": \"Q1: Jan 1 - Mar 31\",\n",
    "    \"Q02\": \"Q2: Apr 1 - Jun 30\",\n",
    "    \"Q03\": \"Q3: Jul 1 - Sep 30\",\n",
    "    \"Q04\": \"Q4: Oct 1 - Dec 31\"\n",
    "}\n",
    "\n",
    "# Extra formatting for the data that came from the API request\n",
    "labor_productivity_df['quarter'] = labor_productivity_df['period'].map(quarter_mapping)\n",
    "labor_productivity_df['year'] = pd.to_numeric(labor_productivity_df['year'])\n",
    "labor_productivity_df['percent_change'] = pd.to_numeric(labor_productivity_df['value'])\n",
    "labor_productivity_df = labor_productivity_df[['year', 'quarter', 'percent_change']]\n",
    "labor_productivity_df = labor_productivity_df.sort_values(by=['year', 'quarter']).reset_index(drop=True)"
   ]
  },
  {
   "cell_type": "code",
   "execution_count": null,
   "id": "d716d226-477a-4740-a4cd-7aea225b9856",
   "metadata": {},
   "outputs": [],
   "source": [
    "# Reading in the Excel file that was used for this data frame\n",
    "file_path = \"Resources/unit_labor_costs.xlsx\"\n",
    "sheet_name = \"BLS Data Series\"\n",
    "unit_labor_costs_df = pd.read_excel(file_path)\n",
    "unit_labor_costs_df = unit_labor_costs_df.melt(id_vars =[\"Year\"],\n",
    "                                               var_name=\"quarter\",\n",
    "                                               value_name=\"percent_change\")\n",
    "\n",
    "#Formatting the data so that it matches the previous data frame\n",
    "quarter_mapping2 = {\n",
    "    \"Qtr1\": \"Q1: Jan 1 - Mar 31\",\n",
    "    \"Qtr2\": \"Q2: Apr 1 - Jun 30\",\n",
    "    \"Qtr3\": \"Q3: Jul 1 - Sep 30\",\n",
    "    \"Qtr4\": \"Q4: Oct 1 - Dec 31\"\n",
    "}\n",
    "unit_labor_costs_df[\"quarter\"] = unit_labor_costs_df[\"quarter\"].map(quarter_mapping2)\n",
    "unit_labor_costs_df = unit_labor_costs_df.sort_values(by=[\"Year\", \"quarter\"]).reset_index(drop=True)\n",
    "unit_labor_costs_df = unit_labor_costs_df.dropna(subset=[\"percent_change\"])"
   ]
  },
  {
   "cell_type": "code",
   "execution_count": null,
   "id": "b0602cf9-ecda-4b63-adbd-46d10bed08bb",
   "metadata": {},
   "outputs": [],
   "source": [
    "# Rinse and repeat for the next excel sheet\n",
    "file_path2 = \"Resources/real_hourly_compensation.xlsx\"\n",
    "sheet_name2 = sheet_name\n",
    "real_hourly_compensation_df = pd.read_excel(file_path2)\n",
    "real_hourly_compensation_df = real_hourly_compensation_df.melt(id_vars = [\"Year\"],\n",
    "                                                               var_name=\"quarter\",\n",
    "                                                               value_name=\"percent_change\")\n",
    "\n",
    "real_hourly_compensation_df[\"quarter\"] = real_hourly_compensation_df[\"quarter\"].map(quarter_mapping2)\n",
    "real_hourly_compensation_df = real_hourly_compensation_df.sort_values(by=[\"Year\", \"quarter\"]).reset_index(drop=True)\n",
    "real_hourly_compensation_df = real_hourly_compensation_df.dropna(subset=[\"percent_change\"])"
   ]
  },
  {
   "cell_type": "code",
   "execution_count": null,
   "id": "96956a4d-614f-4c29-b502-bb77b4a56bb1",
   "metadata": {},
   "outputs": [],
   "source": [
    "file_path3 = \"Resources/total_factor_productivity.xlsx\"\n",
    "sheet_name3 = sheet_name\n",
    "total_factor_productivity_df = pd.read_excel(file_path3)"
   ]
  },
  {
   "cell_type": "code",
   "execution_count": null,
   "id": "ab7b8f35-773e-4ffa-a3ec-b477b7876e99",
   "metadata": {},
   "outputs": [],
   "source": [
    "# Labor Productivity DataFrame\n",
    "labor_productivity_df"
   ]
  },
  {
   "cell_type": "code",
   "execution_count": null,
   "id": "7ed8e148-b51c-4adf-9dbc-6e84c310a8f2",
   "metadata": {},
   "outputs": [],
   "source": [
    "# Unit Labor Costs DataFrame\n",
    "unit_labor_costs_df"
   ]
  },
  {
   "cell_type": "code",
   "execution_count": null,
   "id": "3dcf64bf-7fce-4287-b821-3077ff8ab8de",
   "metadata": {},
   "outputs": [],
   "source": [
    "# Real Hourly Compensation Data Frame\n",
    "real_hourly_compensation_df"
   ]
  },
  {
   "cell_type": "code",
   "execution_count": null,
   "id": "d27126f2-06e0-491a-898f-ca0cc2581d5a",
   "metadata": {},
   "outputs": [],
   "source": [
    "# Total Factor Productivity Data Frame\n",
    "total_factor_productivity_df"
   ]
  },
  {
   "cell_type": "code",
   "execution_count": 5,
   "id": "65541e2d-e932-4c7d-88b6-19f42048976b",
   "metadata": {},
   "outputs": [
    {
     "data": {
      "text/html": [
       "<div>\n",
       "<style scoped>\n",
       "    .dataframe tbody tr th:only-of-type {\n",
       "        vertical-align: middle;\n",
       "    }\n",
       "\n",
       "    .dataframe tbody tr th {\n",
       "        vertical-align: top;\n",
       "    }\n",
       "\n",
       "    .dataframe thead th {\n",
       "        text-align: right;\n",
       "    }\n",
       "</style>\n",
       "<table border=\"1\" class=\"dataframe\">\n",
       "  <thead>\n",
       "    <tr style=\"text-align: right;\">\n",
       "      <th></th>\n",
       "      <th>Sector</th>\n",
       "      <th>NAICS</th>\n",
       "      <th>Industry</th>\n",
       "      <th>Digit</th>\n",
       "      <th>Basis</th>\n",
       "      <th>Measure</th>\n",
       "      <th>Units</th>\n",
       "      <th>2018</th>\n",
       "      <th>2019</th>\n",
       "      <th>2020</th>\n",
       "      <th>2021</th>\n",
       "      <th>2022</th>\n",
       "      <th>2023</th>\n",
       "    </tr>\n",
       "  </thead>\n",
       "  <tbody>\n",
       "    <tr>\n",
       "      <th>0</th>\n",
       "      <td>Mining</td>\n",
       "      <td>21</td>\n",
       "      <td>Mining</td>\n",
       "      <td>2-Digit</td>\n",
       "      <td>All workers</td>\n",
       "      <td>Labor productivity</td>\n",
       "      <td>% Change from previous year</td>\n",
       "      <td>2.1</td>\n",
       "      <td>7.1</td>\n",
       "      <td>22.2</td>\n",
       "      <td>4.9</td>\n",
       "      <td>-6.9</td>\n",
       "      <td>1</td>\n",
       "    </tr>\n",
       "    <tr>\n",
       "      <th>1</th>\n",
       "      <td>Mining</td>\n",
       "      <td>21</td>\n",
       "      <td>Mining</td>\n",
       "      <td>2-Digit</td>\n",
       "      <td>All workers</td>\n",
       "      <td>Real sectoral output</td>\n",
       "      <td>% Change from previous year</td>\n",
       "      <td>12.1</td>\n",
       "      <td>8.5</td>\n",
       "      <td>-6.8</td>\n",
       "      <td>1.2</td>\n",
       "      <td>4.8</td>\n",
       "      <td>5.8</td>\n",
       "    </tr>\n",
       "    <tr>\n",
       "      <th>2</th>\n",
       "      <td>Mining</td>\n",
       "      <td>21</td>\n",
       "      <td>Mining</td>\n",
       "      <td>2-Digit</td>\n",
       "      <td>All workers</td>\n",
       "      <td>Hours worked</td>\n",
       "      <td>% Change from previous year</td>\n",
       "      <td>9.7</td>\n",
       "      <td>1.3</td>\n",
       "      <td>-23.7</td>\n",
       "      <td>-3.5</td>\n",
       "      <td>12.6</td>\n",
       "      <td>4.8</td>\n",
       "    </tr>\n",
       "    <tr>\n",
       "      <th>3</th>\n",
       "      <td>Mining</td>\n",
       "      <td>21</td>\n",
       "      <td>Mining</td>\n",
       "      <td>2-Digit</td>\n",
       "      <td>All workers</td>\n",
       "      <td>Output per worker</td>\n",
       "      <td>% Change from previous year</td>\n",
       "      <td>3.6</td>\n",
       "      <td>8.2</td>\n",
       "      <td>14.3</td>\n",
       "      <td>8.3</td>\n",
       "      <td>-3.9</td>\n",
       "      <td>0.3</td>\n",
       "    </tr>\n",
       "    <tr>\n",
       "      <th>4</th>\n",
       "      <td>Mining</td>\n",
       "      <td>21</td>\n",
       "      <td>Mining</td>\n",
       "      <td>2-Digit</td>\n",
       "      <td>All workers</td>\n",
       "      <td>Unit labor costs</td>\n",
       "      <td>% Change from previous year</td>\n",
       "      <td>-2.2</td>\n",
       "      <td>-3.7</td>\n",
       "      <td>-12.0</td>\n",
       "      <td>-6.1</td>\n",
       "      <td>11.6</td>\n",
       "      <td>4.3</td>\n",
       "    </tr>\n",
       "  </tbody>\n",
       "</table>\n",
       "</div>"
      ],
      "text/plain": [
       "   Sector NAICS Industry    Digit        Basis               Measure  \\\n",
       "0  Mining    21   Mining  2-Digit  All workers    Labor productivity   \n",
       "1  Mining    21   Mining  2-Digit  All workers  Real sectoral output   \n",
       "2  Mining    21   Mining  2-Digit  All workers          Hours worked   \n",
       "3  Mining    21   Mining  2-Digit  All workers     Output per worker   \n",
       "4  Mining    21   Mining  2-Digit  All workers      Unit labor costs   \n",
       "\n",
       "                         Units  2018  2019  2020  2021  2022 2023  \n",
       "0  % Change from previous year   2.1   7.1  22.2   4.9  -6.9    1  \n",
       "1  % Change from previous year  12.1   8.5  -6.8   1.2   4.8  5.8  \n",
       "2  % Change from previous year   9.7   1.3 -23.7  -3.5  12.6  4.8  \n",
       "3  % Change from previous year   3.6   8.2  14.3   8.3  -3.9  0.3  \n",
       "4  % Change from previous year  -2.2  -3.7 -12.0  -6.1  11.6  4.3  "
      ]
     },
     "execution_count": 5,
     "metadata": {},
     "output_type": "execute_result"
    }
   ],
   "source": [
    "file_path3 = \"Resources/labor-productivity-detailed-industries.xlsx\"\n",
    "sheet_name3 = \"MachineReadable\"\n",
    "industry_data_df = pd.read_excel(file_path3)\n",
    "industry_data_df.head()"
   ]
  },
  {
   "cell_type": "code",
   "execution_count": 8,
   "id": "88d8328a-5ebe-4c7b-96ac-532f12560d23",
   "metadata": {},
   "outputs": [
    {
     "data": {
      "text/plain": [
       "array(['Mining', 'Utilities', 'Manufacturing', 'Wholesale Trade',\n",
       "       'Retail Trade', 'Transportation and Warehousing', 'Information',\n",
       "       'Finance and Insurance', 'Real Estate and Rental and Leasing',\n",
       "       'Professional, Scientific, and Technical Services',\n",
       "       'Administrative and Support and Waste Management and Remediation Services',\n",
       "       'Health Care and Social Assistance',\n",
       "       'Arts, Entertainment, and Recreation',\n",
       "       'Accommodation and Food Services',\n",
       "       'Other Services (except Public Administration)'], dtype=object)"
      ]
     },
     "execution_count": 8,
     "metadata": {},
     "output_type": "execute_result"
    }
   ],
   "source": [
    "industries_list = industry_data_df[\"Sector\"].unique()\n",
    "industries_list"
   ]
  },
  {
   "cell_type": "code",
   "execution_count": null,
   "id": "5bb8dd00-0aaf-48ca-912d-770f92e7466c",
   "metadata": {},
   "outputs": [],
   "source": []
  }
 ],
 "metadata": {
  "kernelspec": {
   "display_name": "Python 3 (ipykernel)",
   "language": "python",
   "name": "python3"
  },
  "language_info": {
   "codemirror_mode": {
    "name": "ipython",
    "version": 3
   },
   "file_extension": ".py",
   "mimetype": "text/x-python",
   "name": "python",
   "nbconvert_exporter": "python",
   "pygments_lexer": "ipython3",
   "version": "3.10.15"
  }
 },
 "nbformat": 4,
 "nbformat_minor": 5
}
